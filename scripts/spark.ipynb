{
 "cells": [
  {
   "cell_type": "code",
   "execution_count": 1,
   "metadata": {},
   "outputs": [],
   "source": [
    "from pyspark.sql import SparkSession"
   ]
  },
  {
   "cell_type": "code",
   "execution_count": 6,
   "metadata": {},
   "outputs": [
    {
     "name": "stderr",
     "output_type": "stream",
     "text": [
      "24/06/08 11:03:21 WARN SparkSession: Using an existing Spark session; only runtime SQL configurations will take effect.\n"
     ]
    },
    {
     "data": {
      "text/html": [
       "\n",
       "            <div>\n",
       "                <p><b>SparkSession - in-memory</b></p>\n",
       "                \n",
       "        <div>\n",
       "            <p><b>SparkContext</b></p>\n",
       "\n",
       "            <p><a href=\"http://192.168.29.130:4040\">Spark UI</a></p>\n",
       "\n",
       "            <dl>\n",
       "              <dt>Version</dt>\n",
       "                <dd><code>v3.5.1</code></dd>\n",
       "              <dt>Master</dt>\n",
       "                <dd><code>local[*]</code></dd>\n",
       "              <dt>AppName</dt>\n",
       "                <dd><code>Sales-analytics</code></dd>\n",
       "            </dl>\n",
       "        </div>\n",
       "        \n",
       "            </div>\n",
       "        "
      ],
      "text/plain": [
       "<pyspark.sql.session.SparkSession at 0x7de68a98c2e0>"
      ]
     },
     "execution_count": 6,
     "metadata": {},
     "output_type": "execute_result"
    }
   ],
   "source": [
    "spark = SparkSession.builder.appName(\"sales-analytics\").getOrCreate()\n",
    "spark"
   ]
  },
  {
   "cell_type": "markdown",
   "metadata": {},
   "source": [
    "## EXTRACT"
   ]
  },
  {
   "cell_type": "code",
   "execution_count": 8,
   "metadata": {},
   "outputs": [
    {
     "name": "stderr",
     "output_type": "stream",
     "text": [
      "                                                                                \r"
     ]
    }
   ],
   "source": [
    "df_order = spark.read.option(\"header\", \"true\").option(\"quote\", '\"').csv(\"file:///home/ngocthang/Documents/Code/Sales-Analytics/sales-analytics/data/raw-data/orders.csv\")"
   ]
  },
  {
   "cell_type": "code",
   "execution_count": 22,
   "metadata": {},
   "outputs": [
    {
     "name": "stdout",
     "output_type": "stream",
     "text": [
      "+-----------+---------------+---------------------+-------------+---------+------------+----------------+---------------------------------+-------------------+\n",
      "|Customer ID|Customer Status|Date Order was placed|Delivery Date| Order ID|  Product ID|Quantity Ordered|Total Retail Price for This Order|Cost Price Per Unit|\n",
      "+-----------+---------------+---------------------+-------------+---------+------------+----------------+---------------------------------+-------------------+\n",
      "|        579|         Silver|            01-Jan-17|    07-Jan-17|123002578|220101400106|               2|                             92.6|               20.7|\n",
      "|       7574|         SILVER|            01-Jan-17|    05-Jan-17|123004074|210201000009|               1|                             21.7|               9.95|\n",
      "|      28861|           Gold|            01-Jan-17|    04-Jan-17|123000871|230100500068|               1|                              1.7|                0.8|\n",
      "|      43796|           Gold|            01-Jan-17|    06-Jan-17|123002851|220100100633|               1|                             47.9|              24.05|\n",
      "|      54673|           Gold|            01-Jan-17|    04-Jan-17|123003607|220200200043|               1|                             36.9|               18.3|\n",
      "|      74503|         Silver|            01-Jan-17|    04-Jan-17|123000487|240200100007|               1|                             24.7|               11.8|\n",
      "|       1870|         Silver|            02-Jan-17|    02-Jan-17|123006324|240100400009|               1|                             65.5|               25.6|\n",
      "|       2351|         Silver|            02-Jan-17|    02-Jan-17|123005769|240600100089|               2|                               44|                9.1|\n",
      "|       3073|         Silver|            02-Jan-17|    02-Jan-17|123008467|240200100215|               1|                            108.7|               56.3|\n",
      "|       5907|           Gold|            02-Jan-17|    06-Jan-17|123008924|220200300083|               1|                               53|               26.6|\n",
      "|       7309|         SILVER|            02-Jan-17|    07-Jan-17|123006398|220200200021|               1|                               64|              37.85|\n",
      "|       9216|         Silver|            02-Jan-17|    02-Jan-17|123009762|220100100108|               1|                            114.2|               57.2|\n",
      "|       9542|         Silver|            02-Jan-17|    06-Jan-17|123009779|220200100226|               2|                            266.4|               66.7|\n",
      "|      12409|           Gold|            02-Jan-17|    02-Jan-17|123005849|240200100047|               2|                             29.6|                7.5|\n",
      "|      12601|         Silver|            02-Jan-17|    07-Jan-17|123009881|240800100075|               2|                            647.2|             133.55|\n",
      "|      14679|         Silver|            02-Jan-17|    07-Jan-17|123009905|240500100046|               1|                             69.8|               22.4|\n",
      "|      16958|           GOLD|            02-Jan-17|    02-Jan-17|123009956|220200200045|               3|                              339|              51.45|\n",
      "|      17705|         Silver|            02-Jan-17|    02-Jan-17|123008541|230100300001|               1|                             12.7|               5.75|\n",
      "|      18363|         Silver|            02-Jan-17|    03-Jan-17|123009987|240800100080|               2|                            423.2|              94.25|\n",
      "|      18432|         Silver|            02-Jan-17|    04-Jan-17|123009996|240600100165|               1|                             22.8|               9.75|\n",
      "+-----------+---------------+---------------------+-------------+---------+------------+----------------+---------------------------------+-------------------+\n",
      "only showing top 20 rows\n",
      "\n"
     ]
    }
   ],
   "source": [
    "df_order.show()"
   ]
  },
  {
   "cell_type": "code",
   "execution_count": 23,
   "metadata": {},
   "outputs": [
    {
     "name": "stdout",
     "output_type": "stream",
     "text": [
      "root\n",
      " |-- Customer ID: string (nullable = true)\n",
      " |-- Customer Status: string (nullable = true)\n",
      " |-- Date Order was placed: string (nullable = true)\n",
      " |-- Delivery Date: string (nullable = true)\n",
      " |-- Order ID: string (nullable = true)\n",
      " |-- Product ID: string (nullable = true)\n",
      " |-- Quantity Ordered: string (nullable = true)\n",
      " |-- Total Retail Price for This Order: string (nullable = true)\n",
      " |-- Cost Price Per Unit: string (nullable = true)\n",
      "\n"
     ]
    }
   ],
   "source": [
    "df_order.printSchema()"
   ]
  },
  {
   "cell_type": "code",
   "execution_count": 24,
   "metadata": {},
   "outputs": [
    {
     "name": "stderr",
     "output_type": "stream",
     "text": [
      "                                                                                \r"
     ]
    },
    {
     "data": {
      "text/plain": [
       "185013"
      ]
     },
     "execution_count": 24,
     "metadata": {},
     "output_type": "execute_result"
    }
   ],
   "source": [
    "df_order.count()"
   ]
  },
  {
   "cell_type": "code",
   "execution_count": 43,
   "metadata": {},
   "outputs": [],
   "source": [
    "df_product = spark.read.\\\n",
    "    option(\"header\", \"true\")\\\n",
    "    .option(\"quote\", '\"')\\\n",
    "    .csv(\"file:///home/ngocthang/Documents/Code/Sales-Analytics/sales-analytics/data/raw-data/product-supplier.csv\")"
   ]
  },
  {
   "cell_type": "code",
   "execution_count": 44,
   "metadata": {},
   "outputs": [
    {
     "data": {
      "text/plain": [
       "5504"
      ]
     },
     "execution_count": 44,
     "metadata": {},
     "output_type": "execute_result"
    }
   ],
   "source": [
    "df_product.count()"
   ]
  },
  {
   "cell_type": "code",
   "execution_count": 45,
   "metadata": {},
   "outputs": [
    {
     "name": "stdout",
     "output_type": "stream",
     "text": [
      "+------------+------------+-----------------+--------------------+--------------------+----------------+--------------------+-----------+\n",
      "|  Product ID|Product Line| Product Category|       Product Group|        Product Name|Supplier Country|       Supplier Name|Supplier ID|\n",
      "+------------+------------+-----------------+--------------------+--------------------+----------------+--------------------+-----------+\n",
      "|210100100001|    Children|Children Outdoors|Outdoor things, Kids|Boy's and Girl's ...|              NO|Scandinavian Clot...|         50|\n",
      "|210100100002|    Children|Children Outdoors|Outdoor things, Kids|   Children's Jacket|              ES| Luna sastreria S.A.|       4742|\n",
      "|210100100003|    Children|Children Outdoors|Outdoor things, Kids|Children's Jacket...|              NO|Scandinavian Clot...|         50|\n",
      "|210100100004|    Children|Children Outdoors|Outdoor things, Kids| Children's Rain Set|              NO|Scandinavian Clot...|         50|\n",
      "|210100100005|    Children|Children Outdoors|Outdoor things, Kids|Children's Rain Suit|              NO|Scandinavian Clot...|         50|\n",
      "|210100100006|    Children|Children Outdoors|Outdoor things, Kids|Rain Suit for Chi...|              NO|Scandinavian Clot...|         50|\n",
      "|210100100007|    Children|Children Outdoors|Outdoor things, Kids|           Rain Suit|              US|AllSeasons Outdoo...|        772|\n",
      "|210100100008|    Children|Children Outdoors|Outdoor things, Kids|    Rain Suit Tonado|              NO|Scandinavian Clot...|         50|\n",
      "|210100100009|    Children|Children Outdoors|Outdoor things, Kids|   Ski Jacket Oliver|              NO|Scandinavian Clot...|         50|\n",
      "|210100100010|    Children|Children Outdoors|Outdoor things, Kids|Ski Jacket w/Remo...|              NO|Scandinavian Clot...|         50|\n",
      "|210100100011|    Children|Children Outdoors|Outdoor things, Kids|Tiny Mouse Childr...|              SE| Svensson Trading AB|       6355|\n",
      "|210100100012|    Children|Children Outdoors|Outdoor things, Kids|4ce Ace Children'...|              NO|Scandinavian Clot...|         50|\n",
      "|210100100013|    Children|Children Outdoors|Outdoor things, Kids|4ce Expedition Do...|              NO|Scandinavian Clot...|         50|\n",
      "|210100100014|    Children|Children Outdoors|Outdoor things, Kids|4ce Filip Childre...|              NO|Scandinavian Clot...|         50|\n",
      "|210100100015|    Children|Children Outdoors|Outdoor things, Kids|4ce Grover Snow J...|              NO|Scandinavian Clot...|         50|\n",
      "|210100100016|    Children|Children Outdoors|Outdoor things, Kids|4ce Jaguar Snow P...|              NO|Scandinavian Clot...|         50|\n",
      "|210100100017|    Children|Children Outdoors|Outdoor things, Kids|4ce Tiger Ski Jac...|              NO|Scandinavian Clot...|         50|\n",
      "|210100100018|    Children|Children Outdoors|Outdoor things, Kids|Amarone Children'...|              NO|Scandinavian Clot...|         50|\n",
      "|210100100019|    Children|Children Outdoors|Outdoor things, Kids|Blondie Girl's Sk...|              NO|Scandinavian Clot...|         50|\n",
      "|210100100020|    Children|Children Outdoors|Outdoor things, Kids|Dean Creek Childr...|              NO|Scandinavian Clot...|         50|\n",
      "+------------+------------+-----------------+--------------------+--------------------+----------------+--------------------+-----------+\n",
      "only showing top 20 rows\n",
      "\n"
     ]
    }
   ],
   "source": [
    "df_product.show()"
   ]
  },
  {
   "cell_type": "markdown",
   "metadata": {},
   "source": [
    "## TRANSFORM"
   ]
  },
  {
   "cell_type": "code",
   "execution_count": 28,
   "metadata": {},
   "outputs": [],
   "source": [
    "from pyspark.sql.functions import to_date, date_format, col, when, udf, count, isnan\n",
    "from pyspark.sql.types import StringType"
   ]
  },
  {
   "cell_type": "code",
   "execution_count": 29,
   "metadata": {},
   "outputs": [],
   "source": [
    "df_order = df_order.dropDuplicates()"
   ]
  },
  {
   "cell_type": "code",
   "execution_count": 30,
   "metadata": {},
   "outputs": [
    {
     "name": "stderr",
     "output_type": "stream",
     "text": [
      "[Stage 21:==============>                                           (1 + 3) / 4]\r"
     ]
    },
    {
     "name": "stdout",
     "output_type": "stream",
     "text": [
      "+-----------+---------------+---------------------+-------------+--------+----------+----------------+---------------------------------+-------------------+\n",
      "|Customer ID|Customer Status|Date Order was placed|Delivery Date|Order ID|Product ID|Quantity Ordered|Total Retail Price for This Order|Cost Price Per Unit|\n",
      "+-----------+---------------+---------------------+-------------+--------+----------+----------------+---------------------------------+-------------------+\n",
      "|          0|              0|                    0|            0|       0|         0|               0|                                0|                  0|\n",
      "+-----------+---------------+---------------------+-------------+--------+----------+----------------+---------------------------------+-------------------+\n",
      "\n"
     ]
    },
    {
     "name": "stderr",
     "output_type": "stream",
     "text": [
      "                                                                                \r"
     ]
    }
   ],
   "source": [
    "# check if there is any wrong cloumn\n",
    "df_order.select([count(when(col(c).contains('None') | \\\n",
    "                            col(c).contains('NULL') | \\\n",
    "                            (col(c) == '' ) | \\\n",
    "                            col(c).isNull() | \\\n",
    "                            isnan(c), c \n",
    "                           )).alias(c)\n",
    "                    for c in df_order.columns]).show()"
   ]
  },
  {
   "cell_type": "code",
   "execution_count": 127,
   "metadata": {},
   "outputs": [],
   "source": [
    "standardize = udf(lambda s : s.capitalize(), StringType()) # Capitalize the first letter and convert the rest to lowercase\n",
    "\n",
    "df_order_transform = df_order.withColumn(\"Date Order was placed\", to_date(\"Date Order was placed\", \"dd-MMM-yy\")) \\\n",
    "                            .withColumn(\"Delivery Date\", to_date(\"Delivery Date\", \"dd-MMM-yy\")) \\\n",
    "                            .withColumn(\"Customer Status\", standardize(\"Customer Status\")) \\\n",
    "                            .withColumn(\"Total Retail Price for This Order\", col(\"Total Retail Price for This Order\").cast(\"double\")) \\\n",
    "                            .withColumn(\"Cost Price Per Unit\", col(\"Cost Price Per Unit\").cast(\"double\"))"
   ]
  },
  {
   "cell_type": "code",
   "execution_count": 128,
   "metadata": {},
   "outputs": [],
   "source": [
    "df_order_transform = df_order_transform.withColumnRenamed(\"Date Order was placed\", \"Order Date\").\\\n",
    "                                        withColumnRenamed(\"Total Retail Price for This Order\", \"Order Price\").\\\n",
    "                                        withColumnRenamed(\"Cost Price Per Unit\", \"Cost Per Product\").\\\n",
    "                                        withColumnRenamed(\"Quantity Ordered\", \"Order Quantity\")"
   ]
  },
  {
   "cell_type": "code",
   "execution_count": 129,
   "metadata": {},
   "outputs": [
    {
     "name": "stderr",
     "output_type": "stream",
     "text": [
      "                                                                                \r"
     ]
    },
    {
     "data": {
      "text/plain": [
       "185013"
      ]
     },
     "execution_count": 129,
     "metadata": {},
     "output_type": "execute_result"
    }
   ],
   "source": [
    "df_order_transform.count()"
   ]
  },
  {
   "cell_type": "code",
   "execution_count": 130,
   "metadata": {},
   "outputs": [
    {
     "name": "stderr",
     "output_type": "stream",
     "text": [
      "[Stage 183:>                                                        (0 + 3) / 3]\r"
     ]
    },
    {
     "name": "stdout",
     "output_type": "stream",
     "text": [
      "+-----------+---------------+----------+-------------+---------+------------+--------------+-----------+----------------+\n",
      "|Customer ID|Customer Status|Order Date|Delivery Date| Order ID|  Product ID|Order Quantity|Order Price|Cost Per Product|\n",
      "+-----------+---------------+----------+-------------+---------+------------+--------------+-----------+----------------+\n",
      "|      92956|         Silver|2017-01-02|   2017-01-02|123009195|230100100013|             2|      226.2|            58.9|\n",
      "|      62039|           Gold|2017-01-03|   2017-01-03|123013358|220100100036|             1|       41.2|            20.7|\n",
      "|      40267|         Silver|2017-01-05|   2017-01-05|123024632|210200600084|             1|       34.8|            14.9|\n",
      "|      50664|           Gold|2017-01-07|   2017-01-07|123037269|240800200043|             2|       84.6|           18.45|\n",
      "|      55786|         Silver|2017-01-07|   2017-01-07|123034300|210200600013|             1|       83.7|            41.8|\n",
      "+-----------+---------------+----------+-------------+---------+------------+--------------+-----------+----------------+\n",
      "only showing top 5 rows\n",
      "\n"
     ]
    },
    {
     "name": "stderr",
     "output_type": "stream",
     "text": [
      "                                                                                \r"
     ]
    }
   ],
   "source": [
    "df_order_transform.show(5)"
   ]
  },
  {
   "cell_type": "code",
   "execution_count": 131,
   "metadata": {},
   "outputs": [
    {
     "name": "stdout",
     "output_type": "stream",
     "text": [
      "+-----------+---------------+----------+-------------+---------+------------+--------------+-----------+----------------+\n",
      "|Customer ID|Customer Status|Order Date|Delivery Date| Order ID|  Product ID|Order Quantity|Order Price|Cost Per Product|\n",
      "+-----------+---------------+----------+-------------+---------+------------+--------------+-----------+----------------+\n",
      "|        579|         Silver|2018-09-28|   2018-09-28|123306088|240100100235|             1|       13.2|            5.65|\n",
      "|        579|         Silver|2017-01-01|   2017-01-07|123002578|220101400106|             2|       92.6|            20.7|\n",
      "|        579|         Silver|2021-09-24|   2021-09-24|124350126|220101400027|             2|      139.0|            31.7|\n",
      "|        579|           Gold|2021-04-29|   2021-04-29|124209728|240100100458|             1|        6.7|            2.95|\n",
      "+-----------+---------------+----------+-------------+---------+------------+--------------+-----------+----------------+\n",
      "\n"
     ]
    }
   ],
   "source": [
    "df_order_transform.filter(col(\"Customer ID\") == \"579\").show()"
   ]
  },
  {
   "cell_type": "code",
   "execution_count": 132,
   "metadata": {},
   "outputs": [
    {
     "name": "stdout",
     "output_type": "stream",
     "text": [
      "root\n",
      " |-- Customer ID: string (nullable = true)\n",
      " |-- Customer Status: string (nullable = true)\n",
      " |-- Order Date: date (nullable = true)\n",
      " |-- Delivery Date: date (nullable = true)\n",
      " |-- Order ID: string (nullable = true)\n",
      " |-- Product ID: string (nullable = true)\n",
      " |-- Order Quantity: string (nullable = true)\n",
      " |-- Order Price: double (nullable = true)\n",
      " |-- Cost Per Product: double (nullable = true)\n",
      "\n"
     ]
    }
   ],
   "source": [
    "df_order_transform.printSchema()"
   ]
  },
  {
   "cell_type": "markdown",
   "metadata": {},
   "source": [
    "//////////"
   ]
  },
  {
   "cell_type": "code",
   "execution_count": 46,
   "metadata": {},
   "outputs": [],
   "source": [
    "df_product = df_product.dropDuplicates()"
   ]
  },
  {
   "cell_type": "code",
   "execution_count": 47,
   "metadata": {},
   "outputs": [
    {
     "name": "stdout",
     "output_type": "stream",
     "text": [
      "+----------+------------+----------------+-------------+------------+----------------+-------------+-----------+\n",
      "|Product ID|Product Line|Product Category|Product Group|Product Name|Supplier Country|Supplier Name|Supplier ID|\n",
      "+----------+------------+----------------+-------------+------------+----------------+-------------+-----------+\n",
      "|         0|           0|               0|            0|           0|               0|            0|          0|\n",
      "+----------+------------+----------------+-------------+------------+----------------+-------------+-----------+\n",
      "\n"
     ]
    }
   ],
   "source": [
    "df_product.select([count(when(col(c).contains('None') | \\\n",
    "                            col(c).contains('NULL') | \\\n",
    "                            (col(c) == '' ) | \\\n",
    "                            col(c).isNull() | \\\n",
    "                            isnan(c), c \n",
    "                           )).alias(c)\n",
    "                    for c in df_product.columns]).show()"
   ]
  },
  {
   "cell_type": "code",
   "execution_count": 48,
   "metadata": {},
   "outputs": [],
   "source": [
    "import pycountry\n",
    "\n",
    "def get_country_name(country_code):\n",
    "    try:\n",
    "        country = pycountry.countries.get(alpha_2=country_code)\n",
    "        if country:\n",
    "            return country.name\n",
    "        else:\n",
    "            return None\n",
    "    except:\n",
    "        return None\n",
    "    \n",
    "get_country_name_udf = udf(get_country_name, StringType())\n",
    "\n",
    "# Apply the UDF to the DataFrame column\n",
    "\n",
    "df_product_transform = df_product.withColumn(\"Supplier Country Name\", get_country_name_udf(col(\"Supplier Country\")))"
   ]
  },
  {
   "cell_type": "code",
   "execution_count": 49,
   "metadata": {},
   "outputs": [],
   "source": [
    "df_product_transform = df_product_transform.withColumnRenamed(\"Supplier Country\", \"Supplier Country Code\")"
   ]
  },
  {
   "cell_type": "code",
   "execution_count": 54,
   "metadata": {},
   "outputs": [
    {
     "name": "stdout",
     "output_type": "stream",
     "text": [
      "root\n",
      " |-- Product ID: string (nullable = true)\n",
      " |-- Product Line: string (nullable = true)\n",
      " |-- Product Category: string (nullable = true)\n",
      " |-- Product Group: string (nullable = true)\n",
      " |-- Product Name: string (nullable = true)\n",
      " |-- Supplier Country Code: string (nullable = true)\n",
      " |-- Supplier Name: string (nullable = true)\n",
      " |-- Supplier ID: string (nullable = true)\n",
      " |-- Supplier Country Name: string (nullable = true)\n",
      "\n"
     ]
    }
   ],
   "source": [
    "df_product_transform.printSchema()"
   ]
  },
  {
   "cell_type": "code",
   "execution_count": 50,
   "metadata": {},
   "outputs": [
    {
     "name": "stdout",
     "output_type": "stream",
     "text": [
      "+------------+---------------+--------------------+--------------------+--------------------+---------------------+--------------------+-----------+---------------------+\n",
      "|  Product ID|   Product Line|    Product Category|       Product Group|        Product Name|Supplier Country Code|       Supplier Name|Supplier ID|Supplier Country Name|\n",
      "+------------+---------------+--------------------+--------------------+--------------------+---------------------+--------------------+-----------+---------------------+\n",
      "|210200900019|       Children|     Children Sports|        Osprey, Kids|Osprey Cellerator...|                   US|Triple Sportswear...|       3664|        United States|\n",
      "|220100100113|Clothes & Shoes|             Clothes|    Eclipse Clothing|Big Guy Men's Col...|                   US|         Eclipse Inc|       1303|        United States|\n",
      "|220100100252|Clothes & Shoes|             Clothes|    Eclipse Clothing|Big Guy Men's Sol...|                   US|         Eclipse Inc|       1303|        United States|\n",
      "|220100100264|Clothes & Shoes|             Clothes|    Eclipse Clothing|Big Guy Men's Swe...|                   US|         Eclipse Inc|       1303|        United States|\n",
      "|220100100459|Clothes & Shoes|             Clothes|    Eclipse Clothing|Watchit 42 Black/...|                   US|         Eclipse Inc|       1303|        United States|\n",
      "|220100100477|Clothes & Shoes|             Clothes|    Eclipse Clothing|Woman's 3-Pack An...|                   US|         Eclipse Inc|       1303|        United States|\n",
      "|220100500028|Clothes & Shoes|             Clothes|             Leisure|Van Damme Women's...|                   NL|Van Dammeren Inte...|       2995|          Netherlands|\n",
      "|220100500029|Clothes & Shoes|             Clothes|             Leisure|Van Damme Women's...|                   NL|Van Dammeren Inte...|       2995|          Netherlands|\n",
      "|220100800034|Clothes & Shoes|             Clothes|      Orion Clothing|Hightech Women's ...|                   CA|  Fuller Trading Co.|      16733|               Canada|\n",
      "|220101400309|Clothes & Shoes|             Clothes|     Tracker Clothes|      Sherpa T-Shirt|                   US|         3Top Sports|       2963|        United States|\n",
      "|220101400327|Clothes & Shoes|             Clothes|     Tracker Clothes|    Stars Snap Pants|                   US|         3Top Sports|       2963|        United States|\n",
      "|230100200049|       Outdoors|            Outdoors|           Backpacks|Tornado 55 Litre ...|                   AU|   Toto Outdoor Gear|      10692|            Australia|\n",
      "|240100100189|         Sports|Assorted Sports A...|Assorted Sports a...|Basket Net Basket...|                   NL|Van Dammeren Inte...|       2995|          Netherlands|\n",
      "|240100100346|         Sports|Assorted Sports A...|Assorted Sports a...|Limited Classic Plus|                   AU|       Health-Sports|      14162|            Australia|\n",
      "|240300200059|         Sports|       Indoor Sports|  Gymnastic Clothing|Essential 3/4 Tights|                   ES|            Sportico|        798|                Spain|\n",
      "|240300300003|         Sports|       Indoor Sports|            Top Trim|        Ridge Cotton|                   US|      Top Sports Inc|      14648|        United States|\n",
      "|240500200117|         Sports|   Running - Jogging|     Running Clothes|Smash Coolmax Spr...|                   BE|        Force Sports|       5922|              Belgium|\n",
      "|240600100118|         Sports|         Swim Sports|       Bathing Suits|Sunfit Mangano Sw...|                   US|Nautlius SportsWe...|       6153|        United States|\n",
      "|240800100006|         Sports|       Winter Sports|           Ski Dress|Men's Ski Jacket ...|                   NO|Scandinavian Clot...|         50|               Norway|\n",
      "|210200600065|       Children|     Children Sports|     N.D. Gear, Kids|Children's Down J...|                   ES| Luna sastreria S.A.|       4742|                Spain|\n",
      "+------------+---------------+--------------------+--------------------+--------------------+---------------------+--------------------+-----------+---------------------+\n",
      "only showing top 20 rows\n",
      "\n"
     ]
    }
   ],
   "source": [
    "df_product_transform.show()"
   ]
  },
  {
   "cell_type": "code",
   "execution_count": 135,
   "metadata": {},
   "outputs": [
    {
     "name": "stdout",
     "output_type": "stream",
     "text": [
      "+---------+--------------+\n",
      "|countryID|   countryName|\n",
      "+---------+--------------+\n",
      "|       NO|        Norway|\n",
      "|       SE|        Sweden|\n",
      "|       DE|       Germany|\n",
      "|       FR|        France|\n",
      "|       NL|   Netherlands|\n",
      "|       GB|United Kingdom|\n",
      "|       AU|     Australia|\n",
      "|       DK|       Denmark|\n",
      "|       US| United States|\n",
      "|       CA|        Canada|\n",
      "|       PT|      Portugal|\n",
      "|       ES|         Spain|\n",
      "|       BE|       Belgium|\n",
      "+---------+--------------+\n",
      "\n"
     ]
    }
   ],
   "source": [
    "dimCountry = df_product_transform.select(col(\"Supplier Country Code\").alias(\"countryID\"), col(\"Supplier Country Name\").alias(\"countryName\")).distinct()\n",
    "dimCountry.show()"
   ]
  },
  {
   "cell_type": "code",
   "execution_count": null,
   "metadata": {},
   "outputs": [],
   "source": [
    "dimSup"
   ]
  },
  {
   "cell_type": "markdown",
   "metadata": {},
   "source": [
    "save file as parquet format"
   ]
  },
  {
   "cell_type": "code",
   "execution_count": null,
   "metadata": {},
   "outputs": [],
   "source": []
  },
  {
   "cell_type": "code",
   "execution_count": 65,
   "metadata": {},
   "outputs": [],
   "source": [
    "df_order_parquet = df_order_transform.repartition(1)\n",
    "df_order_parquet.write.mode('overwrite').parquet(\"D:\\Code\\DataEngieering-Projects\\Projects\\Sales-Analytics\\data\\data-transformed\\order\")"
   ]
  },
  {
   "cell_type": "code",
   "execution_count": 66,
   "metadata": {},
   "outputs": [],
   "source": [
    "df_product_parquet = df_product_transform.repartition(1)\n",
    "df_product_parquet.write.mode('overwrite').parquet(\"D:\\Code\\DataEngieering-Projects\\Projects\\Sales-Analytics\\data\\data-transformed\\product\")"
   ]
  },
  {
   "cell_type": "markdown",
   "metadata": {},
   "source": [
    "### LOAD"
   ]
  },
  {
   "cell_type": "markdown",
   "metadata": {},
   "source": [
    "load file to hdfs"
   ]
  },
  {
   "cell_type": "code",
   "execution_count": 10,
   "metadata": {},
   "outputs": [
    {
     "name": "stderr",
     "output_type": "stream",
     "text": [
      "                                                                                \r"
     ]
    }
   ],
   "source": [
    "order_file = spark.read.\\\n",
    "    parquet(\"file:///home/ngocthang/Documents/Code/Sales-Analytics/sales-analytics/data/data-transformed/order/part-00000-44c3a1bf-7c6a-4bb9-8a78-74cf24fb6596-c000.snappy.parquet\")"
   ]
  },
  {
   "cell_type": "code",
   "execution_count": 11,
   "metadata": {},
   "outputs": [
    {
     "name": "stderr",
     "output_type": "stream",
     "text": [
      "[Stage 2:>                                                          (0 + 1) / 1]\r"
     ]
    },
    {
     "name": "stdout",
     "output_type": "stream",
     "text": [
      "+-----------+---------------+----------+-------------+---------+------------+--------------+-----------+----------------+\n",
      "|Customer ID|Customer Status|Order Date|Delivery Date| Order ID|  Product ID|Order Quantity|Order Price|Cost Per Product|\n",
      "+-----------+---------------+----------+-------------+---------+------------+--------------+-----------+----------------+\n",
      "|      92956|         Silver|02/01/2017|   02/01/2017|123009195|230100100013|             2|      226.2|            58.9|\n",
      "|      62039|           Gold|03/01/2017|   03/01/2017|123013358|220100100036|             1|       41.2|            20.7|\n",
      "|      40267|         Silver|05/01/2017|   05/01/2017|123024632|210200600084|             1|       34.8|            14.9|\n",
      "|      50664|           Gold|07/01/2017|   07/01/2017|123037269|240800200043|             2|       84.6|           18.45|\n",
      "|      55786|         Silver|07/01/2017|   07/01/2017|123034300|210200600013|             1|       83.7|            41.8|\n",
      "|      46746|           Gold|12/01/2017|   12/01/2017|123062708|220200100229|             1|      165.5|           82.85|\n",
      "|      91683|         Silver|13/01/2017|   13/01/2017|123069200|220101000001|             1|       18.2|             8.2|\n",
      "|      13701|         Silver|14/01/2017|   14/01/2017|123071854|210201000086|             1|       17.1|            7.65|\n",
      "|      14093|         Silver|15/01/2017|   20/01/2017|123079099|220100100135|             1|       35.7|           17.95|\n",
      "|      75466|         Silver|18/01/2017|   18/01/2017|123094799|210200900001|             1|       46.1|           19.55|\n",
      "|      43495|         Silver|20/01/2017|   20/01/2017|123004763|240600100010|             1|       16.0|             6.5|\n",
      "|      44946|           Gold|20/01/2017|   20/01/2017|123003344|240100100528|             5|      270.5|           23.85|\n",
      "|      62080|         Silver|20/01/2017|   20/01/2017|123004819|230100600018|             1|       64.2|            32.2|\n",
      "|      16480|         Silver|22/01/2017|   22/01/2017|123017050|220101400371|             1|       25.7|            12.8|\n",
      "|      55847|         Silver|24/01/2017|   24/01/2017|123027662|240600100181|             1|       36.8|            16.0|\n",
      "|      72896|         Silver|24/01/2017|   24/01/2017|123029429|220101000002|             1|       17.7|             8.0|\n",
      "|      38556|           Gold|27/01/2017|   27/01/2017|123042446|210200600116|             1|       36.3|            15.2|\n",
      "|      62001|           Gold|27/01/2017|   27/01/2017|123047317|230100700002|             1|      220.0|           135.0|\n",
      "|      84481|         Silver|30/01/2017|   30/01/2017|123060420|220200200011|             1|       86.2|           39.25|\n",
      "|      80359|         Silver|01/02/2017|   01/02/2017|123073140|220200200032|             1|       96.4|           43.85|\n",
      "+-----------+---------------+----------+-------------+---------+------------+--------------+-----------+----------------+\n",
      "only showing top 20 rows\n",
      "\n"
     ]
    },
    {
     "name": "stderr",
     "output_type": "stream",
     "text": [
      "                                                                                \r"
     ]
    }
   ],
   "source": [
    "order_file.show()"
   ]
  },
  {
   "cell_type": "code",
   "execution_count": 12,
   "metadata": {},
   "outputs": [],
   "source": [
    "product_file = spark.read.\\\n",
    "    parquet(\"file:///home/ngocthang/Documents/Code/Sales-Analytics/sales-analytics/data/data-transformed/product/part-00000-7877a23d-2971-48eb-93e2-9db7fab3794f-c000.snappy.parquet\")"
   ]
  },
  {
   "cell_type": "code",
   "execution_count": 13,
   "metadata": {},
   "outputs": [
    {
     "name": "stdout",
     "output_type": "stream",
     "text": [
      "+------------+---------------+--------------------+--------------------+--------------------+---------------------+--------------------+-----------+---------------------+\n",
      "|  Product ID|   Product Line|    Product Category|       Product Group|        Product Name|Supplier Country Code|       Supplier Name|Supplier ID|Supplier Country Name|\n",
      "+------------+---------------+--------------------+--------------------+--------------------+---------------------+--------------------+-----------+---------------------+\n",
      "|210200900019|       Children|     Children Sports|        Osprey, Kids|Osprey Cellerator...|                   US|Triple Sportswear...|       3664|        United States|\n",
      "|220100100113|Clothes & Shoes|             Clothes|    Eclipse Clothing|Big Guy Men's Col...|                   US|         Eclipse Inc|       1303|        United States|\n",
      "|220100100252|Clothes & Shoes|             Clothes|    Eclipse Clothing|Big Guy Men's Sol...|                   US|         Eclipse Inc|       1303|        United States|\n",
      "|220100100264|Clothes & Shoes|             Clothes|    Eclipse Clothing|Big Guy Men's Swe...|                   US|         Eclipse Inc|       1303|        United States|\n",
      "|220100100459|Clothes & Shoes|             Clothes|    Eclipse Clothing|Watchit 42 Black/...|                   US|         Eclipse Inc|       1303|        United States|\n",
      "|220100100477|Clothes & Shoes|             Clothes|    Eclipse Clothing|Woman's 3-Pack An...|                   US|         Eclipse Inc|       1303|        United States|\n",
      "|220100500028|Clothes & Shoes|             Clothes|             Leisure|Van Damme Women's...|                   NL|Van Dammeren Inte...|       2995|          Netherlands|\n",
      "|220100500029|Clothes & Shoes|             Clothes|             Leisure|Van Damme Women's...|                   NL|Van Dammeren Inte...|       2995|          Netherlands|\n",
      "|220100800034|Clothes & Shoes|             Clothes|      Orion Clothing|Hightech Women's ...|                   CA|  Fuller Trading Co.|      16733|               Canada|\n",
      "|220101400309|Clothes & Shoes|             Clothes|     Tracker Clothes|      Sherpa T-Shirt|                   US|         3Top Sports|       2963|        United States|\n",
      "|220101400327|Clothes & Shoes|             Clothes|     Tracker Clothes|    Stars Snap Pants|                   US|         3Top Sports|       2963|        United States|\n",
      "|230100200049|       Outdoors|            Outdoors|           Backpacks|Tornado 55 Litre ...|                   AU|   Toto Outdoor Gear|      10692|            Australia|\n",
      "|240100100189|         Sports|Assorted Sports A...|Assorted Sports a...|Basket Net Basket...|                   NL|Van Dammeren Inte...|       2995|          Netherlands|\n",
      "|240100100346|         Sports|Assorted Sports A...|Assorted Sports a...|Limited Classic Plus|                   AU|       Health-Sports|      14162|            Australia|\n",
      "|240300200059|         Sports|       Indoor Sports|  Gymnastic Clothing|Essential 3/4 Tights|                   ES|            Sportico|        798|                Spain|\n",
      "|240300300003|         Sports|       Indoor Sports|            Top Trim|        Ridge Cotton|                   US|      Top Sports Inc|      14648|        United States|\n",
      "|240500200117|         Sports|   Running - Jogging|     Running Clothes|Smash Coolmax Spr...|                   BE|        Force Sports|       5922|              Belgium|\n",
      "|240600100118|         Sports|         Swim Sports|       Bathing Suits|Sunfit Mangano Sw...|                   US|Nautlius SportsWe...|       6153|        United States|\n",
      "|240800100006|         Sports|       Winter Sports|           Ski Dress|Men's Ski Jacket ...|                   NO|Scandinavian Clot...|         50|               Norway|\n",
      "|210200600065|       Children|     Children Sports|     N.D. Gear, Kids|Children's Down J...|                   ES| Luna sastreria S.A.|       4742|                Spain|\n",
      "+------------+---------------+--------------------+--------------------+--------------------+---------------------+--------------------+-----------+---------------------+\n",
      "only showing top 20 rows\n",
      "\n"
     ]
    }
   ],
   "source": [
    "product_file.show()"
   ]
  },
  {
   "cell_type": "code",
   "execution_count": 14,
   "metadata": {},
   "outputs": [
    {
     "name": "stderr",
     "output_type": "stream",
     "text": [
      "                                                                                \r"
     ]
    }
   ],
   "source": [
    "order_file.write.mode('overwrite').parquet(\"hdfs://localhost:9000/sales-analytics-data/transformed-data/orderfile.parquet\")"
   ]
  },
  {
   "cell_type": "code",
   "execution_count": 15,
   "metadata": {},
   "outputs": [],
   "source": [
    "product_file.write.mode('overwrite').parquet(\"hdfs://localhost:9000/sales-analytics-data/transformed-data/productfile.parquet\")"
   ]
  },
  {
   "cell_type": "markdown",
   "metadata": {},
   "source": [
    "load to data warehouse"
   ]
  },
  {
   "cell_type": "code",
   "execution_count": 21,
   "metadata": {},
   "outputs": [
    {
     "name": "stdout",
     "output_type": "stream",
     "text": [
      "+-------------+---------------------+\n",
      "|  countryName|Supplier Country Code|\n",
      "+-------------+---------------------+\n",
      "|United States|                   US|\n",
      "|United States|                   US|\n",
      "|United States|                   US|\n",
      "|United States|                   US|\n",
      "|United States|                   US|\n",
      "|United States|                   US|\n",
      "|  Netherlands|                   NL|\n",
      "|  Netherlands|                   NL|\n",
      "|       Canada|                   CA|\n",
      "|United States|                   US|\n",
      "|United States|                   US|\n",
      "|    Australia|                   AU|\n",
      "|  Netherlands|                   NL|\n",
      "|    Australia|                   AU|\n",
      "|        Spain|                   ES|\n",
      "|United States|                   US|\n",
      "|      Belgium|                   BE|\n",
      "|United States|                   US|\n",
      "|       Norway|                   NO|\n",
      "|        Spain|                   ES|\n",
      "+-------------+---------------------+\n",
      "only showing top 20 rows\n",
      "\n"
     ]
    }
   ],
   "source": [
    "dimCountry = product_file.select(col(\"Supplier Country Name\").alias(\"countryName\"), col(\"Supplier Country Name\").alias(\"countryName\"))\n",
    "dimCountry.show()"
   ]
  },
  {
   "cell_type": "code",
   "execution_count": null,
   "metadata": {},
   "outputs": [],
   "source": []
  }
 ],
 "metadata": {
  "kernelspec": {
   "display_name": "Python 3",
   "language": "python",
   "name": "python3"
  },
  "language_info": {
   "codemirror_mode": {
    "name": "ipython",
    "version": 3
   },
   "file_extension": ".py",
   "mimetype": "text/x-python",
   "name": "python",
   "nbconvert_exporter": "python",
   "pygments_lexer": "ipython3",
   "version": "3.10.12"
  }
 },
 "nbformat": 4,
 "nbformat_minor": 2
}
